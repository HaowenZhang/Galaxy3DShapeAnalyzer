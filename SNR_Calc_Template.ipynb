{
 "cells": [
  {
   "cell_type": "code",
   "execution_count": 1,
   "metadata": {},
   "outputs": [],
   "source": [
    "from pandeia.engine.calc_utils import build_default_calc\n",
    "from pandeia.engine.perform_calculation import perform_calculation\n",
    "from jwst_backgrounds import jbt\n",
    "from matplotlib import pyplot as plt\n",
    "import os\n",
    "import subprocess\n",
    "from astropy.io import fits\n",
    "import numpy as np\n",
    "from matplotlib import cm"
   ]
  },
  {
   "cell_type": "code",
   "execution_count": 130,
   "metadata": {},
   "outputs": [],
   "source": [
    "configuration = build_default_calc(\"jwst\", \"nirspec\", \"ifu\")\n",
    "\n",
    "# The following is the template for the calculation of our prolate candidates. The values of the parameters\n",
    "# are just for illustration and should be modified from object to object when doing real calculations.\n",
    "\n",
    "\n",
    "ra = 40.0\n",
    "dec = 35.0\n",
    "background_primary_wavelength = 1.15 #micron\n",
    "day_of_interest = 0 # The first day of visibility for the target sky coordinates in the current cycle.\n",
    "\n",
    "sma = 7.5\n",
    "smi = 1.5\n",
    "Nser = 1.0\n",
    "redshift = 1.0\n",
    "Hmag = 20.0\n",
    "Av = 0.4\n",
    "\n",
    "# Calculate the sky background spectrum at the interested position.\n",
    "bg = jbt.background(ra, dec, background_primary_wavelength)\n",
    "wav, sky = bg.bkg_data['wave_array'], bg.bkg_data['total_bg'][day_of_interest] \n",
    "\n",
    "\n",
    "configuration['configuration']['scene_size'] = 40 # tentative, modify if errors up.\n",
    "configuration['configuration']['detector'] = {'ngroup': 10, 'nint': 5, 'nexp': 1, 'subarray': 'full', 'readmode': 'nrsirs2'}\n",
    "configuration['strategy'] = {'aperture_size': 30 , 'units': 'arcsec', 'background_subtraction': True,\\\n",
    "                             'method': 'ifunodinscene', \"dithers\":[{\"x\":0,\"y\":0}, {\"x\":1, \"y\":1}]}\n",
    "# configuration['background'] = 'none'#JBT comes in.\n",
    "configuration['background'] = []#JBT comes in.\n",
    "configuration['background'].append(wav)\n",
    "configuration['background'].append(sky)\n",
    "configuration['background_level'] = 'low'\n",
    "configuration['calculation']['effects']['background'] = True\n",
    "\n",
    "\n",
    "scene = {}\n",
    "scene['position'] = {'x_offset': 0., 'y_offset': 0, 'orientation': 0., \\\n",
    "                     'position_parameters': ['x_offset', 'y_offset', 'orientation']}\n",
    "scene['shape'] = {'geometry': 'sersic', 'shape_parameters': ['major', 'minor', 'sersic_index'],\\\n",
    "#                   \"major\" and \"minor\" are actually \"semi major/minor\"!!!\n",
    "                  'major': sma, 'minor': smi, 'sersic_index': Nser,\\\n",
    "                  'norm_method': 'integ_infinity'} #major and minor in arcseconds\n",
    "scene['spectrum'] = {'name': 'Prolate Candidate', 'spectrum_parameters': ['sed', 'normalization', 'redshift']}\n",
    "scene['spectrum']['sed'] = {'sed_type': 'brown', 'key': 'ngc_5953'} #remember to pick up an appropriate galaxy template.\n",
    "scene['spectrum']['redshift'] = redshift\n",
    "# ***Note***: I encountered a bug when I was trying to normalize the spectra with the HST/WFC3/F160W filter: in the\n",
    "# $HOME/software/pandeia/normalization/config.json, there are no filenames specified for JWST and HST filters, and in\n",
    "# $HOME/software/pandeia/normalization/bandpass, there are no filter curves for these two telescopes. Therefore I \n",
    "# copied the filter curve: $HOME/software/pysyn_cdbs/grp/hst/cdbs/comp/wfc3/wfc3_ir_f160w_005_syn.fits to the \n",
    "# $HOME/software/pandeia/normalization/bandpass, and added this file name to the config.json file. Keep this in mind!!!!\n",
    "scene['spectrum']['normalization'] = {'type': 'hst', 'bandpass': 'wfc3,ir,f160w', 'norm_flux': Hmag, 'norm_fluxunit': 'abmag'}\n",
    "scene['spectrum']['extinction'] = {'law': 'hd210121', 'value': Av, 'unit': 'mag', 'bandpass': 'v'}\n",
    "configuration['scene'][0] = scene"
   ]
  },
  {
   "cell_type": "code",
   "execution_count": 131,
   "metadata": {},
   "outputs": [
    {
     "name": "stdout",
     "output_type": "stream",
     "text": [
      "{'aperture_size': 30, 'units': 'arcsec', 'background_subtraction': True, 'method': 'ifunodinscene', 'dithers': [{'x': 0, 'y': 0}, {'x': 1, 'y': 1}]}\n"
     ]
    }
   ],
   "source": [
    "configuration['configuration']['detector']['readmode'] = 'nrsirs2'\n",
    "print(configuration['strategy'])"
   ]
  },
  {
   "cell_type": "code",
   "execution_count": 132,
   "metadata": {},
   "outputs": [],
   "source": [
    "report = perform_calculation(configuration)"
   ]
  },
  {
   "cell_type": "code",
   "execution_count": 133,
   "metadata": {},
   "outputs": [
    {
     "name": "stdout",
     "output_type": "stream",
     "text": [
      "dict_keys(['sub_reports', 'input', '1d', '2d', '3d', 'scalar', 'information', 'transform', 'warnings'])\n",
      "{'background_area': 266512.714509455, 'extraction_area': 266512.714509455, 'fraction_saturation': 0.0, 'sat_ngroups': 31.0, 'filter': 'f100lp', 'disperser': 'g140m', 'x_offset': 0.0, 'y_offset': 0.0, 'aperture_size': 30, 'sn': 0.0, 'extracted_flux': 0.0, 'extracted_noise': nan, 'background_total': 0.0, 'background_sky': 0.0, 'contamination': 0.0, 'reference_wavelength': 1.4310265526763641, 'background': 0.0, 'total_exposure_time': 7440.3339, 'all_dithers_time': 7440.3339, 'exposure_time': 3720.16695, 'measurement_time': 3282.5002499999996, 'saturation_time': 729.4445, 'total_integrations': 5, 'duty_cycle': 0.8823529411764706, 'cr_ramp_rate': 0.05788405765267828}\n",
      "3.8681671409299314\n",
      "60.30651774458893\n"
     ]
    },
    {
     "data": {
      "text/plain": [
       "<matplotlib.colorbar.Colorbar at 0x1c8789ddd8>"
      ]
     },
     "execution_count": 133,
     "metadata": {},
     "output_type": "execute_result"
    },
    {
     "data": {
      "image/png": "[encoded data removed]",
      "text/plain": [
       "<Figure size 432x288 with 2 Axes>"
      ]
     },
     "metadata": {
      "needs_background": "light"
     },
     "output_type": "display_data"
    }
   ],
   "source": [
    "print(report.keys())\n",
    "print(report['scalar'])\n",
    "print(np.max(report['2d']['detector']))\n",
    "print(np.max(report['2d']['snr']))\n",
    "plt.imshow(report['2d']['detector'], cmap=cm.coolwarm)\n",
    "plt.colorbar()"
   ]
  },
  {
   "cell_type": "code",
   "execution_count": 26,
   "metadata": {},
   "outputs": [],
   "source": [
    "hdu = fits.open('/Users/zhanghaowen/software/pysyn_cdbs/grp/hst/cdbs/comp/wfc3/wfc3_ir_f160w_005_syn.fits')\n",
    "hdu = fits.open('/Users/zhanghaowen/software/pandeia/normalization/bandpass/johnson_v_004_syn.fits')"
   ]
  },
  {
   "cell_type": "code",
   "execution_count": 27,
   "metadata": {},
   "outputs": [
    {
     "name": "stdout",
     "output_type": "stream",
     "text": [
      "Filename: /Users/zhanghaowen/software/pandeia/normalization/bandpass/johnson_v_004_syn.fits\n",
      "No.    Name      Ver    Type      Cards   Dimensions   Format\n",
      "  0  PRIMARY       1 PrimaryHDU      35   ()      \n",
      "  1                1 BinTableHDU     29   47R x 3C   [E, E, E]   \n"
     ]
    }
   ],
   "source": [
    "hdu.info()"
   ]
  },
  {
   "cell_type": "code",
   "execution_count": 28,
   "metadata": {},
   "outputs": [
    {
     "data": {
      "text/plain": [
       "[<matplotlib.lines.Line2D at 0x1c2d042d30>]"
      ]
     },
     "execution_count": 28,
     "metadata": {},
     "output_type": "execute_result"
    },
    {
     "data": {
      "image/png": "[encoded data removed]",
      "text/plain": [
       "<Figure size 432x288 with 1 Axes>"
      ]
     },
     "metadata": {
      "needs_background": "light"
     },
     "output_type": "display_data"
    }
   ],
   "source": [
    "wav = [hdu[1].data[i][0] for i in range(len(hdu[1].data))]\n",
    "amp = [hdu[1].data[i][1] for i in range(len(hdu[1].data))]\n",
    "plt.plot(wav,amp)"
   ]
  },
  {
   "cell_type": "code",
   "execution_count": 20,
   "metadata": {},
   "outputs": [
    {
     "name": "stdout",
     "output_type": "stream",
     "text": [
      "[( 7450.052 , 0.0000000e+00, 0.0000000e+00, 0.0000000e+00, 0.0000000e+00, 0.0000000e+00)\n",
      " ( 7451.052 , 0.0000000e+00, 0.0000000e+00, 0.0000000e+00, 0.0000000e+00, 0.0000000e+00)\n",
      " ( 7452.052 , 9.9010962e-05, 9.9010962e-05, 9.9010962e-05, 9.9010962e-05, 9.9010962e-05)\n",
      " ( 7502.0654, 9.8981232e-05, 9.8981232e-05, 9.8981232e-05, 9.8981232e-05, 9.8981232e-05)\n",
      " ( 7552.0786, 1.9794265e-04, 1.9794265e-04, 1.9794265e-04, 1.9794265e-04, 1.9794265e-04)\n",
      " ( 7602.0923, 1.9794265e-04, 1.9794265e-04, 1.9794265e-04, 1.9794265e-04, 1.9794265e-04)\n",
      " ( 7652.106 , 2.4740351e-03, 2.4740351e-03, 2.4740351e-03, 2.4740351e-03, 2.4740351e-03)\n",
      " ( 7702.119 , 2.0795374e-03, 2.0795374e-03, 2.0795374e-03, 2.0795374e-03, 2.0795374e-03)\n",
      " ( 7752.133 , 1.3866887e-03, 1.3866887e-03, 1.3866887e-03, 1.3866887e-03, 1.3866887e-03)\n",
      " ( 7802.146 , 1.9804174e-04, 1.9804174e-04, 1.9804174e-04, 1.9804174e-04, 1.9804174e-04)\n",
      " (10002.741 , 9.9030789e-05, 9.9030789e-05, 9.9030789e-05, 9.9030789e-05, 9.9030789e-05)\n",
      " (13603.719 , 9.9070436e-05, 9.9070436e-05, 9.9070436e-05, 9.9070436e-05, 9.9070436e-05)\n",
      " (13623.724 , 9.9020872e-05, 9.9020872e-05, 9.9020872e-05, 9.9020872e-05, 9.9020872e-05)\n",
      " (13643.73  , 9.9020872e-05, 9.9020872e-05, 9.9020872e-05, 9.9020872e-05, 9.9020872e-05)\n",
      " (13663.735 , 2.1796487e-04, 2.1796487e-04, 2.1796487e-04, 2.1796487e-04, 2.1796487e-04)\n",
      " (13683.74  , 4.5585289e-04, 4.5585289e-04, 4.5585289e-04, 4.5585289e-04, 4.5585289e-04)\n",
      " (13703.746 , 5.9452176e-04, 5.9452176e-04, 5.9452176e-04, 5.9452176e-04, 5.9452176e-04)\n",
      " (13723.751 , 8.7195862e-04, 8.7195862e-04, 8.7195862e-04, 8.7195862e-04, 8.7195862e-04)\n",
      " (13743.757 , 1.1497920e-03, 1.1497920e-03, 1.1497920e-03, 1.1497920e-03, 1.1497920e-03)\n",
      " (13763.762 , 1.5254567e-03, 1.5254567e-03, 1.5254567e-03, 1.5254567e-03, 1.5254567e-03)\n",
      " (13783.768 , 2.5949613e-03, 2.5949613e-03, 2.5949613e-03, 2.5949613e-03, 2.5949613e-03)\n",
      " (13803.773 , 3.7655688e-03, 3.7655688e-03, 3.7655688e-03, 3.7655688e-03, 3.7655688e-03)\n",
      " (13823.778 , 5.1155831e-03, 5.1155831e-03, 5.1155831e-03, 5.1155831e-03, 5.1155831e-03)\n",
      " (13843.784 , 7.8532770e-03, 7.8532770e-03, 7.8532770e-03, 7.8532770e-03, 7.8532770e-03)\n",
      " (13863.789 , 1.2528768e-02, 1.2528768e-02, 1.2528768e-02, 1.2528768e-02, 1.2528768e-02)\n",
      " (13883.795 , 2.0428630e-02, 2.0428630e-02, 2.0428630e-02, 2.0428630e-02, 2.0428630e-02)\n",
      " (13903.8   , 3.3889126e-02, 3.3889126e-02, 3.3889126e-02, 3.3889126e-02, 3.3889126e-02)\n",
      " (13923.806 , 5.9263848e-02, 5.9263848e-02, 5.9263848e-02, 5.9263848e-02, 5.9263848e-02)\n",
      " (13943.811 , 1.1517744e-01, 1.1517744e-01, 1.1517744e-01, 1.1517744e-01, 1.1517744e-01)\n",
      " (13963.817 , 2.0914319e-01, 2.0914319e-01, 2.0914319e-01, 2.0914319e-01, 2.0914319e-01)\n",
      " (13983.822 , 3.6912286e-01, 3.6912286e-01, 3.6912286e-01, 3.6912286e-01, 3.6912286e-01)\n",
      " (14003.827 , 5.8213174e-01, 5.8213174e-01, 5.8213174e-01, 5.8213174e-01, 5.8213174e-01)\n",
      " (14023.833 , 7.5222164e-01, 7.5222164e-01, 7.5222164e-01, 7.5222164e-01, 7.5222164e-01)\n",
      " (14043.838 , 8.5946947e-01, 8.5946947e-01, 8.5946947e-01, 8.5946947e-01, 8.5946947e-01)\n",
      " (14063.844 , 8.9465708e-01, 8.9465708e-01, 8.9465708e-01, 8.9465708e-01, 8.9465708e-01)\n",
      " (14083.849 , 9.0000957e-01, 9.0000957e-01, 9.0000957e-01, 9.0000957e-01, 9.0000957e-01)\n",
      " (14103.855 , 8.9782894e-01, 8.9782894e-01, 8.9782894e-01, 8.9782894e-01, 8.9782894e-01)\n",
      " (14123.86  , 8.9376503e-01, 8.9376503e-01, 8.9376503e-01, 8.9376503e-01, 8.9376503e-01)\n",
      " (14143.865 , 8.9475620e-01, 8.9475620e-01, 8.9475620e-01, 8.9475620e-01, 8.9475620e-01)\n",
      " (14163.871 , 8.9882010e-01, 8.9882010e-01, 8.9882010e-01, 8.9882010e-01, 8.9882010e-01)\n",
      " (14183.876 , 9.0793920e-01, 9.0793920e-01, 9.0793920e-01, 9.0793920e-01, 9.0793920e-01)\n",
      " (14203.882 , 9.2181599e-01, 9.2181599e-01, 9.2181599e-01, 9.2181599e-01, 9.2181599e-01)\n",
      " (14223.887 , 9.3747693e-01, 9.3747693e-01, 9.3747693e-01, 9.3747693e-01, 9.3747693e-01)\n",
      " (14243.893 , 9.5155197e-01, 9.5155197e-01, 9.5155197e-01, 9.5155197e-01, 9.5155197e-01)\n",
      " (14263.898 , 9.6106750e-01, 9.6106750e-01, 9.6106750e-01, 9.6106750e-01, 9.6106750e-01)\n",
      " (14283.904 , 9.6820414e-01, 9.6820414e-01, 9.6820414e-01, 9.6820414e-01, 9.6820414e-01)\n",
      " (14303.909 , 9.6969092e-01, 9.6969092e-01, 9.6969092e-01, 9.6969092e-01, 9.6969092e-01)\n",
      " (14323.914 , 9.6979004e-01, 9.6979004e-01, 9.6979004e-01, 9.6979004e-01, 9.6979004e-01)\n",
      " (14343.92  , 9.7028565e-01, 9.7028565e-01, 9.7028565e-01, 9.7028565e-01, 9.7028565e-01)\n",
      " (14363.925 , 9.7048390e-01, 9.7048390e-01, 9.7048390e-01, 9.7048390e-01, 9.7048390e-01)\n",
      " (14383.931 , 9.7236717e-01, 9.7236717e-01, 9.7236717e-01, 9.7236717e-01, 9.7236717e-01)\n",
      " (14403.936 , 9.7454780e-01, 9.7454780e-01, 9.7454780e-01, 9.7454780e-01, 9.7454780e-01)\n",
      " (14423.942 , 9.7573721e-01, 9.7573721e-01, 9.7573721e-01, 9.7573721e-01, 9.7573721e-01)\n",
      " (14443.947 , 9.7653019e-01, 9.7653019e-01, 9.7653019e-01, 9.7653019e-01, 9.7653019e-01)\n",
      " (14463.952 , 9.7712493e-01, 9.7712493e-01, 9.7712493e-01, 9.7712493e-01, 9.7712493e-01)\n",
      " (14483.958 , 9.7425050e-01, 9.7425050e-01, 9.7425050e-01, 9.7425050e-01, 9.7425050e-01)\n",
      " (14503.963 , 9.7028565e-01, 9.7028565e-01, 9.7028565e-01, 9.7028565e-01, 9.7028565e-01)\n",
      " (14523.969 , 9.6503228e-01, 9.6503228e-01, 9.6503228e-01, 9.6503228e-01, 9.6503228e-01)\n",
      " (14543.974 , 9.6077013e-01, 9.6077013e-01, 9.6077013e-01, 9.6077013e-01, 9.6077013e-01)\n",
      " (14563.98  , 9.5670623e-01, 9.5670623e-01, 9.5670623e-01, 9.5670623e-01, 9.5670623e-01)\n",
      " (14583.985 , 9.5452559e-01, 9.5452559e-01, 9.5452559e-01, 9.5452559e-01, 9.5452559e-01)\n",
      " (14603.991 , 9.5521939e-01, 9.5521939e-01, 9.5521939e-01, 9.5521939e-01, 9.5521939e-01)\n",
      " (14623.996 , 9.5839125e-01, 9.5839125e-01, 9.5839125e-01, 9.5839125e-01, 9.5839125e-01)\n",
      " (14644.001 , 9.6255428e-01, 9.6255428e-01, 9.6255428e-01, 9.6255428e-01, 9.6255428e-01)\n",
      " (14664.007 , 9.6780765e-01, 9.6780765e-01, 9.6780765e-01, 9.6780765e-01, 9.6780765e-01)\n",
      " (14684.012 , 9.7177249e-01, 9.7177249e-01, 9.7177249e-01, 9.7177249e-01, 9.7177249e-01)\n",
      " (14704.018 , 9.7385401e-01, 9.7385401e-01, 9.7385401e-01, 9.7385401e-01, 9.7385401e-01)\n",
      " (14724.023 , 9.7296190e-01, 9.7296190e-01, 9.7296190e-01, 9.7296190e-01, 9.7296190e-01)\n",
      " (14744.029 , 9.6949267e-01, 9.6949267e-01, 9.6949267e-01, 9.6949267e-01, 9.6949267e-01)\n",
      " (14764.034 , 9.6423936e-01, 9.6423936e-01, 9.6423936e-01, 9.6423936e-01, 9.6423936e-01)\n",
      " (14784.039 , 9.5492208e-01, 9.5492208e-01, 9.5492208e-01, 9.5492208e-01, 9.5492208e-01)\n",
      " (14804.045 , 9.4709158e-01, 9.4709158e-01, 9.4709158e-01, 9.4709158e-01, 9.4709158e-01)\n",
      " (14824.05  , 9.3955845e-01, 9.3955845e-01, 9.3955845e-01, 9.3955845e-01, 9.3955845e-01)\n",
      " (14844.056 , 9.3262011e-01, 9.3262011e-01, 9.3262011e-01, 9.3262011e-01, 9.3262011e-01)\n",
      " (14864.061 , 9.2954731e-01, 9.2954731e-01, 9.2954731e-01, 9.2954731e-01, 9.2954731e-01)\n",
      " (14884.067 , 9.2855614e-01, 9.2855614e-01, 9.2855614e-01, 9.2855614e-01, 9.2855614e-01)\n",
      " (14904.072 , 9.3004292e-01, 9.3004292e-01, 9.3004292e-01, 9.3004292e-01, 9.3004292e-01)\n",
      " (14924.078 , 9.3410683e-01, 9.3410683e-01, 9.3410683e-01, 9.3410683e-01, 9.3410683e-01)\n",
      " (14944.083 , 9.3886459e-01, 9.3886459e-01, 9.3886459e-01, 9.3886459e-01, 9.3886459e-01)\n",
      " (14964.088 , 9.4580305e-01, 9.4580305e-01, 9.4580305e-01, 9.4580305e-01, 9.4580305e-01)\n",
      " (14984.094 , 9.5254320e-01, 9.5254320e-01, 9.5254320e-01, 9.5254320e-01, 9.5254320e-01)\n",
      " (15004.099 , 9.5849037e-01, 9.5849037e-01, 9.5849037e-01, 9.5849037e-01, 9.5849037e-01)\n",
      " (15024.105 , 9.6374375e-01, 9.6374375e-01, 9.6374375e-01, 9.6374375e-01, 9.6374375e-01)\n",
      " (15044.11  , 9.6820414e-01, 9.6820414e-01, 9.6820414e-01, 9.6820414e-01, 9.6820414e-01)\n",
      " (15064.116 , 9.7078121e-01, 9.7078121e-01, 9.7078121e-01, 9.7078121e-01, 9.7078121e-01)\n",
      " (15084.121 , 9.7355664e-01, 9.7355664e-01, 9.7355664e-01, 9.7355664e-01, 9.7355664e-01)\n",
      " (15104.126 , 9.7524166e-01, 9.7524166e-01, 9.7524166e-01, 9.7524166e-01, 9.7524166e-01)\n",
      " (15124.132 , 9.7583634e-01, 9.7583634e-01, 9.7583634e-01, 9.7583634e-01, 9.7583634e-01)\n",
      " (15144.137 , 9.7573721e-01, 9.7573721e-01, 9.7573721e-01, 9.7573721e-01, 9.7573721e-01)\n",
      " (15164.143 , 9.7385401e-01, 9.7385401e-01, 9.7385401e-01, 9.7385401e-01, 9.7385401e-01)\n",
      " (15184.148 , 9.7018653e-01, 9.7018653e-01, 9.7018653e-01, 9.7018653e-01, 9.7018653e-01)\n",
      " (15204.154 , 9.6632087e-01, 9.6632087e-01, 9.6632087e-01, 9.6632087e-01, 9.6632087e-01)\n",
      " (15224.159 , 9.6166223e-01, 9.6166223e-01, 9.6166223e-01, 9.6166223e-01, 9.6166223e-01)\n",
      " (15244.165 , 9.5561588e-01, 9.5561588e-01, 9.5561588e-01, 9.5561588e-01, 9.5561588e-01)\n",
      " (15264.17  , 9.4838011e-01, 9.4838011e-01, 9.4838011e-01, 9.4838011e-01, 9.4838011e-01)\n",
      " (15284.175 , 9.4114441e-01, 9.4114441e-01, 9.4114441e-01, 9.4114441e-01, 9.4114441e-01)\n",
      " (15304.181 , 9.3470156e-01, 9.3470156e-01, 9.3470156e-01, 9.3470156e-01, 9.3470156e-01)\n",
      " (15324.186 , 9.2934912e-01, 9.2934912e-01, 9.2934912e-01, 9.2934912e-01, 9.2934912e-01)\n",
      " (15344.192 , 9.2657375e-01, 9.2657375e-01, 9.2657375e-01, 9.2657375e-01, 9.2657375e-01)\n",
      " (15364.197 , 9.2587984e-01, 9.2587984e-01, 9.2587984e-01, 9.2587984e-01, 9.2587984e-01)\n",
      " (15384.203 , 9.2736667e-01, 9.2736667e-01, 9.2736667e-01, 9.2736667e-01, 9.2736667e-01)\n",
      " (15404.208 , 9.3152976e-01, 9.3152976e-01, 9.3152976e-01, 9.3152976e-01, 9.3152976e-01)\n",
      " (15424.213 , 9.3737781e-01, 9.3737781e-01, 9.3737781e-01, 9.3737781e-01, 9.3737781e-01)\n",
      " (15444.219 , 9.4372147e-01, 9.4372147e-01, 9.4372147e-01, 9.4372147e-01, 9.4372147e-01)\n",
      " (15464.224 , 9.5075905e-01, 9.5075905e-01, 9.5075905e-01, 9.5075905e-01, 9.5075905e-01)\n",
      " (15484.23  , 9.5809388e-01, 9.5809388e-01, 9.5809388e-01, 9.5809388e-01, 9.5809388e-01)\n",
      " (15504.235 , 9.6275252e-01, 9.6275252e-01, 9.6275252e-01, 9.6275252e-01, 9.6275252e-01)\n",
      " (15524.241 , 9.6562701e-01, 9.6562701e-01, 9.6562701e-01, 9.6562701e-01, 9.6562701e-01)\n",
      " (15544.246 , 9.6751034e-01, 9.6751034e-01, 9.6751034e-01, 9.6751034e-01, 9.6751034e-01)\n",
      " (15564.252 , 9.6899706e-01, 9.6899706e-01, 9.6899706e-01, 9.6899706e-01, 9.6899706e-01)\n",
      " (15584.257 , 9.6869969e-01, 9.6869969e-01, 9.6869969e-01, 9.6869969e-01, 9.6869969e-01)\n",
      " (15604.262 , 9.6909618e-01, 9.6909618e-01, 9.6909618e-01, 9.6909618e-01, 9.6909618e-01)\n",
      " (15624.268 , 9.6889800e-01, 9.6889800e-01, 9.6889800e-01, 9.6889800e-01, 9.6889800e-01)\n",
      " (15644.273 , 9.6979004e-01, 9.6979004e-01, 9.6979004e-01, 9.6979004e-01, 9.6979004e-01)\n",
      " (15664.279 , 9.7097951e-01, 9.7097951e-01, 9.7097951e-01, 9.7097951e-01, 9.7097951e-01)\n",
      " (15684.284 , 9.7335839e-01, 9.7335839e-01, 9.7335839e-01, 9.7335839e-01, 9.7335839e-01)\n",
      " (15704.29  , 9.7434956e-01, 9.7434956e-01, 9.7434956e-01, 9.7434956e-01, 9.7434956e-01)\n",
      " (15724.295 , 9.7583634e-01, 9.7583634e-01, 9.7583634e-01, 9.7583634e-01, 9.7583634e-01)\n",
      " (15744.301 , 9.7692668e-01, 9.7692668e-01, 9.7692668e-01, 9.7692668e-01, 9.7692668e-01)\n",
      " (15764.306 , 9.7682756e-01, 9.7682756e-01, 9.7682756e-01, 9.7682756e-01, 9.7682756e-01)\n",
      " (15784.311 , 9.7613370e-01, 9.7613370e-01, 9.7613370e-01, 9.7613370e-01, 9.7613370e-01)\n",
      " (15804.317 , 9.7454780e-01, 9.7454780e-01, 9.7454780e-01, 9.7454780e-01, 9.7454780e-01)\n",
      " (15824.322 , 9.7395307e-01, 9.7395307e-01, 9.7395307e-01, 9.7395307e-01, 9.7395307e-01)\n",
      " (15844.328 , 9.7266454e-01, 9.7266454e-01, 9.7266454e-01, 9.7266454e-01, 9.7266454e-01)\n",
      " (15864.333 , 9.7157419e-01, 9.7157419e-01, 9.7157419e-01, 9.7157419e-01, 9.7157419e-01)\n",
      " (15884.339 , 9.7078121e-01, 9.7078121e-01, 9.7078121e-01, 9.7078121e-01, 9.7078121e-01)\n",
      " (15904.344 , 9.7048390e-01, 9.7048390e-01, 9.7048390e-01, 9.7048390e-01, 9.7048390e-01)\n",
      " (15924.349 , 9.7028565e-01, 9.7028565e-01, 9.7028565e-01, 9.7028565e-01, 9.7028565e-01)\n",
      " (15944.355 , 9.7058302e-01, 9.7058302e-01, 9.7058302e-01, 9.7058302e-01, 9.7058302e-01)\n",
      " (15964.36  , 9.6879888e-01, 9.6879888e-01, 9.6879888e-01, 9.6879888e-01, 9.6879888e-01)\n",
      " (15984.366 , 9.6701467e-01, 9.6701467e-01, 9.6701467e-01, 9.6701467e-01, 9.6701467e-01)\n",
      " (16004.371 , 9.6384287e-01, 9.6384287e-01, 9.6384287e-01, 9.6384287e-01, 9.6384287e-01)\n",
      " (16024.377 , 9.5967984e-01, 9.5967984e-01, 9.5967984e-01, 9.5967984e-01, 9.5967984e-01)\n",
      " (16044.382 , 9.5492208e-01, 9.5492208e-01, 9.5492208e-01, 9.5492208e-01, 9.5492208e-01)\n",
      " (16064.388 , 9.5026344e-01, 9.5026344e-01, 9.5026344e-01, 9.5026344e-01, 9.5026344e-01)\n",
      " (16084.393 , 9.4748807e-01, 9.4748807e-01, 9.4748807e-01, 9.4748807e-01, 9.4748807e-01)\n",
      " (16104.398 , 9.4550562e-01, 9.4550562e-01, 9.4550562e-01, 9.4550562e-01, 9.4550562e-01)\n",
      " (16124.404 , 9.4461358e-01, 9.4461358e-01, 9.4461358e-01, 9.4461358e-01, 9.4461358e-01)\n",
      " (16144.409 , 9.4590211e-01, 9.4590211e-01, 9.4590211e-01, 9.4590211e-01, 9.4590211e-01)\n",
      " (16164.415 , 9.4778544e-01, 9.4778544e-01, 9.4778544e-01, 9.4778544e-01, 9.4778544e-01)\n",
      " (16184.42  , 9.5125461e-01, 9.5125461e-01, 9.5125461e-01, 9.5125461e-01, 9.5125461e-01)\n",
      " (16204.426 , 9.5432734e-01, 9.5432734e-01, 9.5432734e-01, 9.5432734e-01, 9.5432734e-01)\n",
      " (16224.431 , 9.5700359e-01, 9.5700359e-01, 9.5700359e-01, 9.5700359e-01, 9.5700359e-01)\n",
      " (16244.436 , 9.5720178e-01, 9.5720178e-01, 9.5720178e-01, 9.5720178e-01, 9.5720178e-01)\n",
      " (16264.442 , 9.5492208e-01, 9.5492208e-01, 9.5492208e-01, 9.5492208e-01, 9.5492208e-01)\n",
      " (16284.447 , 9.4986695e-01, 9.4986695e-01, 9.4986695e-01, 9.4986695e-01, 9.4986695e-01)\n",
      " (16304.453 , 9.4362241e-01, 9.4362241e-01, 9.4362241e-01, 9.4362241e-01, 9.4362241e-01)\n",
      " (16324.458 , 9.3410683e-01, 9.3410683e-01, 9.3410683e-01, 9.3410683e-01, 9.3410683e-01)\n",
      " (16344.464 , 9.2518604e-01, 9.2518604e-01, 9.2518604e-01, 9.2518604e-01, 9.2518604e-01)\n",
      " (16364.469 , 9.1646349e-01, 9.1646349e-01, 9.1646349e-01, 9.1646349e-01, 9.1646349e-01)\n",
      " (16384.475 , 9.1051632e-01, 9.1051632e-01, 9.1051632e-01, 9.1051632e-01, 9.1051632e-01)\n",
      " (16404.48  , 9.1021889e-01, 9.1021889e-01, 9.1021889e-01, 9.1021889e-01, 9.1021889e-01)\n",
      " (16424.484 , 9.1249871e-01, 9.1249871e-01, 9.1249871e-01, 9.1249871e-01, 9.1249871e-01)\n",
      " (16444.49  , 9.1904062e-01, 9.1904062e-01, 9.1904062e-01, 9.1904062e-01, 9.1904062e-01)\n",
      " (16464.496 , 9.2944819e-01, 9.2944819e-01, 9.2944819e-01, 9.2944819e-01, 9.2944819e-01)\n",
      " (16484.502 , 9.4094610e-01, 9.4094610e-01, 9.4094610e-01, 9.4094610e-01, 9.4094610e-01)\n",
      " (16504.508 , 9.5125461e-01, 9.5125461e-01, 9.5125461e-01, 9.5125461e-01, 9.5125461e-01)\n",
      " (16524.514 , 9.5720178e-01, 9.5720178e-01, 9.5720178e-01, 9.5720178e-01, 9.5720178e-01)\n",
      " (16544.518 , 9.5749921e-01, 9.5749921e-01, 9.5749921e-01, 9.5749921e-01, 9.5749921e-01)\n",
      " (16564.523 , 9.5422822e-01, 9.5422822e-01, 9.5422822e-01, 9.5422822e-01, 9.5422822e-01)\n",
      " (16584.53  , 9.4669509e-01, 9.4669509e-01, 9.4669509e-01, 9.4669509e-01, 9.4669509e-01)\n",
      " (16604.533 , 9.3817079e-01, 9.3817079e-01, 9.3817079e-01, 9.3817079e-01, 9.3817079e-01)\n",
      " (16624.54  , 9.3133146e-01, 9.3133146e-01, 9.3133146e-01, 9.3133146e-01, 9.3133146e-01)\n",
      " (16644.545 , 9.2806053e-01, 9.2806053e-01, 9.2806053e-01, 9.2806053e-01, 9.2806053e-01)\n",
      " (16664.55  , 9.3034029e-01, 9.3034029e-01, 9.3034029e-01, 9.3034029e-01, 9.3034029e-01)\n",
      " (16684.557 , 9.3252093e-01, 9.3252093e-01, 9.3252093e-01, 9.3252093e-01, 9.3252093e-01)\n",
      " (16704.562 , 9.3549448e-01, 9.3549448e-01, 9.3549448e-01, 9.3549448e-01, 9.3549448e-01)\n",
      " (16724.566 , 9.3470156e-01, 9.3470156e-01, 9.3470156e-01, 9.3470156e-01, 9.3470156e-01)\n",
      " (16744.572 , 9.2578077e-01, 9.2578077e-01, 9.2578077e-01, 9.2578077e-01, 9.2578077e-01)\n",
      " (16764.578 , 9.1002071e-01, 9.1002071e-01, 9.1002071e-01, 9.1002071e-01, 9.1002071e-01)\n",
      " (16784.582 , 8.9257556e-01, 8.9257556e-01, 8.9257556e-01, 8.9257556e-01, 8.9257556e-01)\n",
      " (16804.59  , 8.8058209e-01, 8.8058209e-01, 8.8058209e-01, 8.8058209e-01, 8.8058209e-01)\n",
      " (16824.594 , 8.6521846e-01, 8.6521846e-01, 8.6521846e-01, 8.6521846e-01, 8.6521846e-01)\n",
      " (16844.6   , 8.1367606e-01, 8.1367606e-01, 8.1367606e-01, 8.1367606e-01, 8.1367606e-01)\n",
      " (16864.605 , 6.7272741e-01, 6.7272741e-01, 6.7272741e-01, 6.7272741e-01, 6.7272741e-01)\n",
      " (16884.611 , 4.4782412e-01, 4.4782412e-01, 4.4782412e-01, 4.4782412e-01, 4.4782412e-01)\n",
      " (16904.615 , 2.4641232e-01, 2.4641232e-01, 2.4641232e-01, 2.4641232e-01, 2.4641232e-01)\n",
      " (16924.621 , 1.2508944e-01, 1.2508944e-01, 1.2508944e-01, 1.2508944e-01, 1.2508944e-01)\n",
      " (16944.627 , 6.3426882e-02, 6.3426882e-02, 6.3426882e-02, 6.3426882e-02, 6.3426882e-02)\n",
      " (16964.633 , 3.3393528e-02, 3.3393528e-02, 3.3393528e-02, 3.3393528e-02, 3.3393528e-02)\n",
      " (16984.639 , 1.8624647e-02, 1.8624647e-02, 1.8624647e-02, 1.8624647e-02, 1.8624647e-02)\n",
      " (17004.643 , 1.0704960e-02, 1.0704960e-02, 1.0704960e-02, 1.0704960e-02, 1.0704960e-02)\n",
      " (17024.648 , 6.6400487e-03, 6.6400487e-03, 6.6400487e-03, 6.6400487e-03, 6.6400487e-03)\n",
      " (17044.654 , 4.0629283e-03, 4.0629283e-03, 4.0629283e-03, 4.0629283e-03, 4.0629283e-03)\n",
      " (17064.66  , 2.8724975e-03, 2.8724975e-03, 2.8724975e-03, 2.8724975e-03, 2.8724975e-03)\n",
      " (17084.664 , 1.7831688e-03, 1.7831688e-03, 1.7831688e-03, 1.7831688e-03, 1.7831688e-03)\n",
      " (17104.67  , 9.9050615e-04, 9.9050615e-04, 9.9050615e-04, 9.9050615e-04, 9.9050615e-04)\n",
      " (17124.676 , 6.9344346e-04, 6.9344346e-04, 6.9344346e-04, 6.9344346e-04, 6.9344346e-04)\n",
      " (17144.682 , 6.9344346e-04, 6.9344346e-04, 6.9344346e-04, 6.9344346e-04, 6.9344346e-04)\n",
      " (17164.688 , 2.9726088e-04, 2.9726088e-04, 2.9726088e-04, 2.9726088e-04, 2.9726088e-04)\n",
      " (17184.691 , 2.9726088e-04, 2.9726088e-04, 2.9726088e-04, 2.9726088e-04, 2.9726088e-04)\n",
      " (17204.697 , 2.9726088e-04, 2.9726088e-04, 2.9726088e-04, 2.9726088e-04, 2.9726088e-04)\n",
      " (17224.703 , 1.9814087e-04, 1.9814087e-04, 1.9814087e-04, 1.9814087e-04, 1.9814087e-04)\n",
      " (18224.703 , 1.9814087e-04, 1.9814087e-04, 1.9814087e-04, 1.9814087e-04, 1.9814087e-04)\n",
      " (19224.703 , 1.9814087e-04, 1.9814087e-04, 1.9814087e-04, 1.9814087e-04, 1.9814087e-04)\n",
      " (19225.703 , 0.0000000e+00, 0.0000000e+00, 0.0000000e+00, 0.0000000e+00, 0.0000000e+00)\n",
      " (19226.703 , 0.0000000e+00, 0.0000000e+00, 0.0000000e+00, 0.0000000e+00, 0.0000000e+00)]\n"
     ]
    }
   ],
   "source": [
    "print(hdu[1].data.transpose())"
   ]
  },
  {
   "cell_type": "code",
   "execution_count": null,
   "metadata": {},
   "outputs": [],
   "source": []
  }
 ],
 "metadata": {
  "kernelspec": {
   "display_name": "Python 3",
   "language": "python",
   "name": "python3"
  },
  "language_info": {
   "codemirror_mode": {
    "name": "ipython",
    "version": 3
   },
   "file_extension": ".py",
   "mimetype": "text/x-python",
   "name": "python",
   "nbconvert_exporter": "python",
   "pygments_lexer": "ipython3",
   "version": "3.7.1"
  }
 },
 "nbformat": 4,
 "nbformat_minor": 2
}
